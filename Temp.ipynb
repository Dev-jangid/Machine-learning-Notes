{
 "cells": [
  {
   "cell_type": "code",
   "execution_count": null,
   "id": "111d9b65",
   "metadata": {},
   "outputs": [],
   "source": [
    "# int Full Multiplication Table"
   ]
  },
  {
   "cell_type": "code",
   "execution_count": 2,
   "id": "09fcc040",
   "metadata": {},
   "outputs": [
    {
     "name": "stdout",
     "output_type": "stream",
     "text": [
      "10 x 1 = 10\n",
      "10 x 2 = 20\n",
      "10 x 3 = 30\n",
      "10 x 4 = 40\n",
      "10 x 5 = 50\n",
      "10 x 6 = 60\n",
      "10 x 7 = 70\n",
      "10 x 8 = 80\n",
      "10 x 9 = 90\n",
      "10 x 10 = 100\n"
     ]
    }
   ],
   "source": [
    "def table(num):\n",
    "    for x in range(1, num + 1):\n",
    "        print(num, 'x', x, '=', num * x)\n",
    "\n",
    "\n",
    "table(num= 10)"
   ]
  },
  {
   "cell_type": "code",
   "execution_count": null,
   "id": "6efbbc99",
   "metadata": {},
   "outputs": [],
   "source": []
  }
 ],
 "metadata": {
  "kernelspec": {
   "display_name": "Python 3",
   "language": "python",
   "name": "python3"
  },
  "language_info": {
   "codemirror_mode": {
    "name": "ipython",
    "version": 3
   },
   "file_extension": ".py",
   "mimetype": "text/x-python",
   "name": "python",
   "nbconvert_exporter": "python",
   "pygments_lexer": "ipython3",
   "version": "3.10.0"
  }
 },
 "nbformat": 4,
 "nbformat_minor": 5
}
