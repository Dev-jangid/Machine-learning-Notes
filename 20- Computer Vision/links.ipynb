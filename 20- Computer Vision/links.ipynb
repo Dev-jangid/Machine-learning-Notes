{
 "cells": [
  {
   "cell_type": "markdown",
   "metadata": {},
   "source": []
  },
  {
   "cell_type": "markdown",
   "metadata": {},
   "source": [
    "1. YOLO Algorithm: Real-Time Object Detection from A to Z  \n",
    "    Link: [https://kili-technology.com/data-labeling/machine-learning/yolo-algorithm-real-time-object-detection-from-a-to-z](https://kili-technology.com/data-labeling/machine-learning/yolo-algorithm-real-time-object-detection-from-a-to-z)\n",
    "\n",
    "2. YOLO and Mediapipe Video Object Detection on UNIHIKER\n",
    "    [https://www.unihiker.com/new-14002.html](https://www.unihiker.com/new-14002.html)\n",
    "\n",
    "3. YOLOv7 Pose vs MediaPipe in Human Pose Estimation\n",
    "    [https://learnopencv.com/yolov7-pose-vs-mediapipe-in-human-pose-estimation/](https://learnopencv.com/yolov7-pose-vs-mediapipe-in-human-pose-estimation/)\n",
    "\n",
    "4. What is YOLO? The Ultimate Guide\n",
    "[https://blog.roboflow.com/guide-to-yolo-models/](https://blog.roboflow.com/guide-to-yolo-models/)\n",
    "5. YOLO Object Detection Explained\n",
    "[https://www.datacamp.com/blog/yolo-object-detection-explained](https://www.datacamp.com/blog/yolo-object-detection-explained)"
   ]
  },
  {
   "cell_type": "markdown",
   "metadata": {},
   "source": []
  }
 ],
 "metadata": {
  "language_info": {
   "name": "python"
  }
 },
 "nbformat": 4,
 "nbformat_minor": 2
}
